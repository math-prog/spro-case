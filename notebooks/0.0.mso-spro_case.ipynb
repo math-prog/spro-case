{
 "cells": [
  {
   "cell_type": "code",
   "execution_count": null,
   "metadata": {},
   "outputs": [],
   "source": [
    "# Import Libraries\n",
    "import pandas as pd\n",
    "\n",
    "df_carro = pd.DataFrame('carro': ['Onix', \"Polo\", \"Sandero\", \"Fiesta\", \"City\"], \n",
    "                         'cor': ['Prata', 'Branco', 'Prata', 'Vermelho', 'Preto'], \n",
    "                         'montadora': ['Chevrolet', 'Volkswagen', 'Renault', 'Ford', 'Honda'])\n",
    "\n",
    "df_montadora = pd.DataFrame('montadora': ['Chevrolet', 'Volkswagen', 'Renault', 'Ford', 'Honda'], 'pais': 'EUA', 'Alemanha', 'Franca', 'EUA', 'Japao')\n",
    "\n",
    "df_montadora.sample()"
   ]
  },
  {
   "cell_type": "code",
   "execution_count": null,
   "metadata": {},
   "outputs": [],
   "source": []
  }
 ],
 "metadata": {
  "kernelspec": {
   "display_name": "Python 3.11.3 ('spro_case')",
   "language": "python",
   "name": "python3"
  },
  "language_info": {
   "name": "python",
   "version": "3.8.0"
  },
  "orig_nbformat": 4,
  "vscode": {
   "interpreter": {
    "hash": "520ac4cafdbcb07693223ffefd4c2f150744c90d128ce402359cf6a4e84abbb4"
   }
  }
 },
 "nbformat": 4,
 "nbformat_minor": 2
}
